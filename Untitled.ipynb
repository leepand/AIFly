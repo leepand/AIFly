{
 "cells": [
  {
   "cell_type": "code",
   "execution_count": 67,
   "metadata": {},
   "outputs": [
    {
     "data": {
      "text/plain": [
       "'{\"Init Model Service\": \"Success\"}'"
      ]
     },
     "execution_count": 67,
     "metadata": {},
     "output_type": "execute_result"
    }
   ],
   "source": [
    "import requests\n",
    "import json\n",
    "routing_del={'funcslist':['fib.fib','predict.predict']}\n",
    "r = requests.put('http://localhost:8000/AI_server/predict/',data = json.dumps(routing_del))\n",
    "r.content"
   ]
  },
  {
   "cell_type": "code",
   "execution_count": 75,
   "metadata": {},
   "outputs": [
    {
     "name": "stdout",
     "output_type": "stream",
     "text": [
      "200\n",
      "2\n",
      "0.0116539001465\n"
     ]
    }
   ],
   "source": [
    "import time\n",
    "t1=time.time()\n",
    "d3 = {'modelId':'fib', 'data':{'n':2}}\n",
    "\n",
    "response = requests.post('http://localhost:8000/AI_server/predict/', \n",
    "                         data= json.dumps(d3), \n",
    "                         headers={'Content-Type': 'application/json'})\n",
    "print(response.status_code)\n",
    "print(response.content)\n",
    "print(time.time()-t1)"
   ]
  },
  {
   "cell_type": "code",
   "execution_count": 76,
   "metadata": {},
   "outputs": [
    {
     "name": "stdout",
     "output_type": "stream",
     "text": [
      "200\n",
      "2\n",
      "0.0356688499451\n"
     ]
    }
   ],
   "source": [
    "import time\n",
    "t1=time.time()\n",
    "d3 = {'modelId':'predict', 'data':{'n':2}}\n",
    "\n",
    "response = requests.post('http://localhost:8000/AI_server/predict/', \n",
    "                         data= json.dumps(d3), \n",
    "                         headers={'Content-Type': 'application/json'})\n",
    "print(response.status_code)\n",
    "print(response.content)\n",
    "print(time.time()-t1)"
   ]
  },
  {
   "cell_type": "code",
   "execution_count": null,
   "metadata": {},
   "outputs": [],
   "source": [
    "gunicorn --daemon 'AlgoApp:loader()' --error-logfile gunicorn.log --access-logfile gunicorn_access.log"
   ]
  },
  {
   "cell_type": "code",
   "execution_count": 129,
   "metadata": {},
   "outputs": [
    {
     "data": {
      "text/plain": [
       "'{\"Init Model Service\": \"Success\"}'"
      ]
     },
     "execution_count": 129,
     "metadata": {},
     "output_type": "execute_result"
    }
   ],
   "source": [
    "import requests\n",
    "import json\n",
    "routing_del={'model_list':[['fib_model','1.0.2']]}\n",
    "r = requests.put('http://localhost:8000/AI_server/predict/',data = json.dumps(routing_del))\n",
    "r.content"
   ]
  },
  {
   "cell_type": "code",
   "execution_count": 130,
   "metadata": {},
   "outputs": [
    {
     "name": "stdout",
     "output_type": "stream",
     "text": [
      "200\n",
      "{\"result\": 2178309}\n",
      "0.901387929916\n"
     ]
    }
   ],
   "source": [
    "import time\n",
    "t1=time.time()\n",
    "d3 = {'modelId':'fib_model','model_version':'1.0.2', 'data':31}\n",
    "\n",
    "response = requests.post('http://localhost:8000/AI_server/predict/', \n",
    "                         data= json.dumps(d3), \n",
    "                         headers={'Content-Type': 'application/json'})\n",
    "print(response.status_code)\n",
    "print(response.content)\n",
    "print(time.time()-t1)"
   ]
  },
  {
   "cell_type": "code",
   "execution_count": null,
   "metadata": {},
   "outputs": [],
   "source": []
  },
  {
   "cell_type": "code",
   "execution_count": null,
   "metadata": {},
   "outputs": [],
   "source": []
  }
 ],
 "metadata": {
  "kernelspec": {
   "display_name": "Python 2",
   "language": "python",
   "name": "python2"
  },
  "language_info": {
   "codemirror_mode": {
    "name": "ipython",
    "version": 2
   },
   "file_extension": ".py",
   "mimetype": "text/x-python",
   "name": "python",
   "nbconvert_exporter": "python",
   "pygments_lexer": "ipython2",
   "version": "2.7.13"
  }
 },
 "nbformat": 4,
 "nbformat_minor": 2
}
